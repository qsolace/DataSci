{
 "metadata": {
  "language_info": {
   "codemirror_mode": {
    "name": "ipython",
    "version": 3
   },
   "file_extension": ".py",
   "mimetype": "text/x-python",
   "name": "python",
   "nbconvert_exporter": "python",
   "pygments_lexer": "ipython3",
   "version": "3.9.2-final"
  },
  "orig_nbformat": 2,
  "kernelspec": {
   "name": "python3",
   "display_name": "Python 3.9.2 64-bit",
   "metadata": {
    "interpreter": {
     "hash": "f90d893633778b4e5ca0ae3cb3b6a6b303ef2ef60ced37fab24a64ed228b94c8"
    }
   }
  }
 },
 "nbformat": 4,
 "nbformat_minor": 2,
 "cells": [
  {
   "cell_type": "code",
   "execution_count": 3,
   "metadata": {},
   "outputs": [
    {
     "output_type": "stream",
     "name": "stdout",
     "text": [
      "[[1973.    18.1   24.7   12.8]\n [1974.    18.6   25.5   13. ]\n [1975.    18.5   25.9   12. ]\n [1976.    17.8   25.6   11.1]\n [1977.    18.8   26.4   12. ]\n [1978.    17.8   25.4   11.1]\n [1979.    17.5   24.9   10.9]\n [1980.    19.1   27.    12.1]\n [1981.    18.4   25.8   11.7]\n [1982.    18.3   25.6   12.1]\n [1983.    17.3   24.2   11.1]\n [1984.    18.6   26.    12.6]\n [1985.    18.3   25.4   12.1]\n [1986.    18.8   25.8   12.9]\n [1987.    18.5   25.9   11.8]\n [1988.    18.7   26.4   12.1]\n [1989.    17.9   25.4   11.8]\n [1990.    19.3   26.6   12.5]\n [1991.    18.7   25.8   12.3]\n [1992.    18.7   25.6   12.5]\n [1993.    18.4   25.3   12.2]\n [1994.    18.9   25.8   12.5]\n [1995.    18.8   26.    12.2]\n [1996.    18.4   25.5   12.5]\n [1997.    18.    23.8   13.3]\n [1998.    20.3   26.1   15.5]\n [1999.    20.3   26.9   14.7]\n [2000.    19.7   26.4   13.7]\n [2001.    18.6   25.1   12.8]\n [2002.     nan    nan    nan]\n [2003.    18.9   26.1   12.7]\n [2004.    19.1   25.6   13.4]\n [2005.     nan    nan    nan]\n [2006.    20.7   28.1   14.2]\n [2007.    19.6   25.9   14.1]\n [2008.    20.3   27.8   13.7]\n [2009.    19.    26.2   12.9]\n [2010.    19.3   26.1   13.2]\n [2011.    20.3   27.4   13.7]\n [2012.    20.6   27.8   14.2]\n [2013.    19.    26.    12.5]\n [2014.    18.9   26.2   12.4]\n [2015.    19.5   26.1   13.4]\n [2016.    20.5   27.2   14.6]\n [2017.    20.9   28.1   14.7]\n [2018.    19.4   26.3   13.5]\n [2019.    19.    25.9   13. ]\n [2020.    19.4   26.3   13.1]\n [2021.     nan    nan    nan]]\n[1973. 1974. 1975. 1976. 1977. 1978. 1979. 1980. 1981. 1982. 1983. 1984.\n 1985. 1986. 1987. 1988. 1989. 1990. 1991. 1992. 1993. 1994. 1995. 1996.\n 1997. 1998. 1999. 2000. 2001. 2002. 2003. 2004. 2005. 2006. 2007. 2008.\n 2009. 2010. 2011. 2012. 2013. 2014. 2015. 2016. 2017. 2018. 2019. 2020.\n 2021.]\n[18.1 18.6 18.5 17.8 18.8 17.8 17.5 19.1 18.4 18.3 17.3 18.6 18.3 18.8\n 18.5 18.7 17.9 19.3 18.7 18.7 18.4 18.9 18.8 18.4 18.  20.3 20.3 19.7\n 18.6  nan 18.9 19.1  nan 20.7 19.6 20.3 19.  19.3 20.3 20.6 19.  18.9\n 19.5 20.5 20.9 19.4 19.  19.4  nan]\n[24.7 25.5 25.9 25.6 26.4 25.4 24.9 27.  25.8 25.6 24.2 26.  25.4 25.8\n 25.9 26.4 25.4 26.6 25.8 25.6 25.3 25.8 26.  25.5 23.8 26.1 26.9 26.4\n 25.1  nan 26.1 25.6  nan 28.1 25.9 27.8 26.2 26.1 27.4 27.8 26.  26.2\n 26.1 27.2 28.1 26.3 25.9 26.3  nan]\n[12.8 13.  12.  11.1 12.  11.1 10.9 12.1 11.7 12.1 11.1 12.6 12.1 12.9\n 11.8 12.1 11.8 12.5 12.3 12.5 12.2 12.5 12.2 12.5 13.3 15.5 14.7 13.7\n 12.8  nan 12.7 13.4  nan 14.2 14.1 13.7 12.9 13.2 13.7 14.2 12.5 12.4\n 13.4 14.6 14.7 13.5 13.  13.1  nan]\nNumber of years: 49\nNumber of missing years: 0\nNumber of avg temps: 46\nNUmber of misisng T_MAX values: 3\n[12.8 13.  12.  11.1 12.  11.1 10.9 12.1 11.7 12.1 11.1 12.6 12.1 12.9\n 11.8 12.1 11.8 12.5 12.3 12.5 12.2 12.5 12.2 12.5 13.3 15.5 14.7 13.7\n 12.8 12.7 13.4 14.2 14.1 13.7 12.9 13.2 13.7 14.2 12.5 12.4 13.4 14.6\n 14.7 13.5 13.  13.1]\n"
     ]
    }
   ],
   "source": [
    "import numpy as np\n",
    "fp = \"Dataset.txt\"\n",
    "data = np.genfromtxt(fp, skip_header=1, usecols=(0, 1, 2, 3))\n",
    "\n"
   ]
  },
  {
   "source": [
    "#All Data"
   ],
   "cell_type": "markdown",
   "metadata": {}
  },
  {
   "cell_type": "code",
   "execution_count": null,
   "metadata": {},
   "outputs": [],
   "source": [
    "data"
   ]
  },
  {
   "cell_type": "code",
   "execution_count": null,
   "metadata": {},
   "outputs": [],
   "source": [
    "date=data[:,0]\n",
    "# print (date)\n",
    "t_AVG = data[:,1]\n",
    "t_MIN = data[:,2]\n",
    "t_MAX = data[:,3]\n",
    "# print (t_AVG)\n",
    "# print (t_MIN)\n",
    "# print (t_MAX)\n",
    "date_mask = np.isfinite(date)\n",
    "\n",
    "# print(\"Number of years:\", np.count_nonzero(date_mask))\n",
    "\n",
    "missing_date_mask = ~np.isfinite(date)\n",
    "\n",
    "# print(\"Number of missing years:\", np.count_nonzero(missing_date_mask))\n",
    "\n",
    "t_AVG_mask = np.isfinite(t_AVG)\n",
    "# print(\"Number of avg temps:\", np.count_nonzero(t_AVG_mask))\n",
    "\n",
    "missing_t_MAX_mask = ~np.isfinite(t_MAX)\n",
    "# print(\"NUmber of misisng T_MAX values:\", np.count_nonzero(missing_t_MAX_mask))\n",
    "tmax_mask = np.isfinite(t_MAX)\n",
    "\n",
    "tmax_clean = t_MAX[tmax_mask]\n",
    "print (tmax_clean)\n",
    "date_clean = date[tmax_mask]\n",
    "\n",
    "tmax_total = tmax_clean[(date_clean >= 1973 & (date_clean < 2010))]"
   ]
  },
  {
   "source": [
    "#Average Temperature (*C)"
   ],
   "cell_type": "markdown",
   "metadata": {}
  },
  {
   "cell_type": "code",
   "execution_count": 4,
   "metadata": {},
   "outputs": [
    {
     "output_type": "execute_result",
     "data": {
      "text/plain": [
       "12.808695652173917"
      ]
     },
     "metadata": {},
     "execution_count": 4
    }
   ],
   "source": [
    "tmax_total.mean()"
   ]
  }
 ]
}