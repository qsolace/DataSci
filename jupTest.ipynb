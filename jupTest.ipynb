{
 "metadata": {
  "language_info": {
   "codemirror_mode": {
    "name": "ipython",
    "version": 3
   },
   "file_extension": ".py",
   "mimetype": "text/x-python",
   "name": "python",
   "nbconvert_exporter": "python",
   "pygments_lexer": "ipython3",
   "version": "3.9.1-final"
  },
  "orig_nbformat": 2,
  "kernelspec": {
   "name": "python3",
   "display_name": "Python 3.9.1 64-bit",
   "metadata": {
    "interpreter": {
     "hash": "f90d893633778b4e5ca0ae3cb3b6a6b303ef2ef60ced37fab24a64ed228b94c8"
    }
   }
  }
 },
 "nbformat": 4,
 "nbformat_minor": 2,
 "cells": [
  {
   "cell_type": "code",
   "execution_count": 95,
   "metadata": {},
   "outputs": [
    {
     "output_type": "stream",
     "name": "stdout",
     "text": [
      "hello\n"
     ]
    }
   ],
   "source": [
    "print(\"hello\")"
   ]
  },
  {
   "source": [
    "3*4+5"
   ],
   "cell_type": "code",
   "metadata": {},
   "execution_count": 96,
   "outputs": [
    {
     "output_type": "execute_result",
     "data": {
      "text/plain": [
       "17"
      ]
     },
     "metadata": {},
     "execution_count": 96
    }
   ]
  },
  {
   "cell_type": "code",
   "execution_count": 97,
   "metadata": {},
   "outputs": [
    {
     "output_type": "execute_result",
     "data": {
      "text/plain": [
       "31536000"
      ]
     },
     "metadata": {},
     "execution_count": 97
    }
   ],
   "source": [
    "365*24*60*60"
   ]
  },
  {
   "cell_type": "code",
   "execution_count": 98,
   "metadata": {},
   "outputs": [],
   "source": [
    "y=90\n",
    "x=\"ai\""
   ]
  },
  {
   "source": [
    "## Hello"
   ],
   "cell_type": "markdown",
   "metadata": {}
  },
  {
   "source": [
    "* hi\n",
    "* bidet\n",
    "  * Yikey"
   ],
   "cell_type": "markdown",
   "metadata": {}
  },
  {
   "source": [
    "|Left  |Center|Right|\n",
    "|:-----|:----:|----:|\n",
    "|4     |x     |V    |\n",
    "|2     |P     |K    |"
   ],
   "cell_type": "markdown",
   "metadata": {}
  },
  {
   "source": [
    "![] (https://i2.wp.com/www.thegeeklygrind.com/wp-content/uploads/2020/12/mighty-nein-ornerie.jpg?fit=1170%2C819 \"Mighty Nein in Winter Outfits\")"
   ],
   "cell_type": "markdown",
   "metadata": {}
  },
  {
   "source": [
    "*italics*  \n",
    "\n",
    "- [ ]  to do\n",
    "\n",
    "\n",
    "|Left  |Center|Right|\n",
    "|:-----|:----:|----:|\n",
    "|4     |x     |V    |\n",
    "|2     |P     |K    |\n"
   ],
   "cell_type": "markdown",
   "metadata": {}
  }
 ]
}