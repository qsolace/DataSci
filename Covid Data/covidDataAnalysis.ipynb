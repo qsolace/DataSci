{
 "metadata": {
  "language_info": {
   "codemirror_mode": {
    "name": "ipython",
    "version": 3
   },
   "file_extension": ".py",
   "mimetype": "text/x-python",
   "name": "python",
   "nbconvert_exporter": "python",
   "pygments_lexer": "ipython3",
   "version": "3.9.2-final"
  },
  "orig_nbformat": 2,
  "kernelspec": {
   "name": "python3",
   "display_name": "Python 3.9.2 64-bit",
   "metadata": {
    "interpreter": {
     "hash": "f90d893633778b4e5ca0ae3cb3b6a6b303ef2ef60ced37fab24a64ed228b94c8"
    }
   }
  }
 },
 "nbformat": 4,
 "nbformat_minor": 2,
 "cells": [
  {
   "source": [
    "import numpy as np\n",
    "from numpy import genfromtxt\n",
    "\n",
    "import csv\n",
    "\n",
    "def readCSVToNumpyArray(dataset):\n",
    "        values = [[]]\n",
    "        with open(dataset) as f:\n",
    "            counter = 0\n",
    "            for i in csv.reader(f):\n",
    "                for j in i:\n",
    "                    try:\n",
    "                        values[counter].append(float(j))\n",
    "                    except ValueError:\n",
    "                        values[counter].append(j)\n",
    "                counter = counter + 1\n",
    "                values.append([])\n",
    "\n",
    "        data = np.array(values[:-1],dtype='object')\n",
    "\n",
    "        return data\n",
    "\n",
    "numpyArray = readCSVToNumpyArray('02-28-2021.csv')\n",
    "for i in range(6):\n",
    "\n",
    "    print(numpyArray[i])\n"
   ],
   "cell_type": "code",
   "metadata": {
    "tags": []
   },
   "execution_count": 74,
   "outputs": [
    {
     "output_type": "stream",
     "name": "stdout",
     "text": [
      "['FIPS' 'Admin2' 'Province_State' 'Country_Region' 'Last_Update' 'Lat'\n 'Long_' 'Confirmed' 'Deaths' 'Recovered' 'Active' 'Combined_Key'\n 'Incident_Rate' 'Case_Fatality_Ratio']\n['' '' '' 'Afghanistan' '2021-03-01 05:23:01' 33.93911 67.709953 55714.0\n 2443.0 49333.0 3938.0 'Afghanistan' 143.11937927177527 4.384894281509136]\n['' '' '' 'Albania' '2021-03-01 05:23:01' 41.1533 20.1683 107167.0 1796.0\n 69773.0 35598.0 'Albania' 3723.921050802696 1.675889033004563]\n['' '' '' 'Algeria' '2021-03-01 05:23:01' 28.0339 1.6596 113092.0 2983.0\n 78098.0 32011.0 'Algeria' 257.900365106481 2.637675520814912]\n['' '' '' 'Andorra' '2021-03-01 05:23:01' 42.5063 1.5218 10866.0 110.0\n 10446.0 310.0 'Andorra' 14063.288681809358 1.0123320449107307]\n['' '' '' 'Angola' '2021-03-01 05:23:01' -11.2027 17.8739 20807.0 508.0\n 19322.0 977.0 'Angola' 63.30807014657095 2.4414860383524775]\n"
     ]
    }
   ]
  },
  {
   "cell_type": "code",
   "execution_count": 75,
   "metadata": {
    "tags": []
   },
   "outputs": [
    {
     "output_type": "stream",
     "name": "stdout",
     "text": [
      "3982\n[0, 0, 0, 0]\n[0, 0, 0, 0]\n[0, 0, 0, 0]\n[0, 0, 0, 0]\n[0, 0, 0, 0]\n[0, 0, 0, 0]\n[0, 0, 0, 0]\n[0, 0, 0, 0]\n[0, 0, 0, 0]\n[118.0 3.0 115.0 0.0]\n[5298.0 57.0 115.0 5126.0]\n[5403.0 57.0 218.0 5128.0]\n[6734.0 63.0 1531.0 5140.0]\n[7350.0 67.0 2137.0 5146.0]\n[7584.0 80.0 2358.0 5146.0]\n[28065.0 900.0 22008.0 5157.0]\n[0, 0, 0, 0]\n[0, 0, 0, 0]\n[0, 0, 0, 0]\n[0, 0, 0, 0]\n[0, 0, 0, 0]\n[0, 0, 0, 0]\n[0, 0, 0, 0]\n[0, 0, 0, 0]\n[97082.0 0.0 0.0 97082.0]\n[192513.0 0.0 0.0 192513.0]\n[275984.0 0.0 0.0 275984.0]\n[335515.0 0.0 0.0 335515.0]\n[452050.0 0.0 0.0 452050.0]\n[557560.0 0.0 0.0 557560.0]\n[596004.0 0.0 0.0 596004.0]\n[617883.0 0.0 0.0 617883.0]\n[658290.0 0.0 0.0 658290.0]\n[672449.0 22077.0 0.0 650372.0]\n[702436.0 22077.0 0.0 680359.0]\n[0, 0, 0, 0]\n[0, 0, 0, 0]\n[0, 0, 0, 0]\n[0, 0, 0, 0]\n[0, 0, 0, 0]\n[0, 0, 0, 0]\n[0, 0, 0, 0]\n[57534.0 998.0 46623.0 9913.0]\n[189280.0 3997.0 171930.0 13353.0]\n[272943.0 5137.0 232406.0 35400.0]\n[588909.0 15997.0 501548.0 71364.0]\n[1272946.0 27816.0 1150141.0 94989.0]\n[1698318.0 39100.0 1462630.0 196588.0]\n[1995012.0 43938.0 1745630.0 205444.0]\n[2321282.0 50344.0 2052649.0 218289.0]\n[2717095.0 58861.0 2431026.0 227208.0]\n[2936402.0 63913.0 2635255.0 237234.0]\n[3185820.0 69626.0 2869932.0 246262.0]\n[3367348.0 72945.0 3039275.0 255128.0]\n[4246053.0 91510.0 3838784.0 315759.0]\n[4610696.0 100101.0 4180774.0 329821.0]\n[4831811.0 104597.0 4338623.0 388591.0]\n[5478843.0 116266.0 4806391.0 556186.0]\n[5778318.0 127262.0 5064272.0 586784.0]\n[5952009.0 130597.0 5233944.0 587468.0]\n[6118904.0 134182.0 5357275.0 627447.0]\n[6759828.0 146574.0 5955632.0 657622.0]\n[7342872.0 179654.0 6501487.0 661731.0]\n[7491644.0 182504.0 6631357.0 677783.0]\n[7573693.0 183604.0 6707459.0 682630.0]\n[8244296.0 190962.0 7333764.0 719570.0]\n[10285924.0 250455.0 9139313.0 896156.0]\n[10437335.0 253416.0 9280704.0 903215.0]\n[0, 0, 0, 0]\n[0, 0, 0, 0]\n[0, 0, 0, 0]\n[0, 0, 0, 0]\n[0, 0, 0, 0]\n[0, 0, 0, 0]\n[0, 0, 0, 0]\n[0, 0, 0, 0]\n[0, 0, 0, 0]\n[133504.0 1886.0 127034.0 4584.0]\n[212698.0 3241.0 200222.0 9235.0]\n"
     ]
    },
    {
     "output_type": "error",
     "ename": "TypeError",
     "evalue": "unsupported operand type(s) for +: 'float' and 'str'",
     "traceback": [
      "\u001b[1;31m---------------------------------------------------------------------------\u001b[0m",
      "\u001b[1;31mTypeError\u001b[0m                                 Traceback (most recent call last)",
      "\u001b[1;32m<ipython-input-75-2dec499cf5a6>\u001b[0m in \u001b[0;36m<module>\u001b[1;34m\u001b[0m\n\u001b[0;32m      8\u001b[0m     \u001b[0mtempArray\u001b[0m \u001b[1;33m=\u001b[0m \u001b[0mnp\u001b[0m\u001b[1;33m.\u001b[0m\u001b[0marray\u001b[0m\u001b[1;33m(\u001b[0m\u001b[0mnumpyArray\u001b[0m\u001b[1;33m[\u001b[0m\u001b[0mi\u001b[0m\u001b[1;33m+\u001b[0m\u001b[1;36m1\u001b[0m\u001b[1;33m]\u001b[0m\u001b[1;33m[\u001b[0m\u001b[1;36m7\u001b[0m\u001b[1;33m:\u001b[0m\u001b[1;36m11\u001b[0m\u001b[1;33m]\u001b[0m\u001b[1;33m)\u001b[0m\u001b[1;33m\u001b[0m\u001b[1;33m\u001b[0m\u001b[0m\n\u001b[0;32m      9\u001b[0m     \u001b[0mprint\u001b[0m\u001b[1;33m(\u001b[0m\u001b[0mcountryData\u001b[0m\u001b[1;33m[\u001b[0m\u001b[0mnumpyArray\u001b[0m\u001b[1;33m[\u001b[0m\u001b[0mi\u001b[0m\u001b[1;33m+\u001b[0m\u001b[1;36m1\u001b[0m\u001b[1;33m]\u001b[0m\u001b[1;33m[\u001b[0m\u001b[1;36m3\u001b[0m\u001b[1;33m]\u001b[0m\u001b[1;33m]\u001b[0m\u001b[1;33m)\u001b[0m\u001b[1;33m\u001b[0m\u001b[1;33m\u001b[0m\u001b[0m\n\u001b[1;32m---> 10\u001b[1;33m     \u001b[0mcountryData\u001b[0m\u001b[1;33m[\u001b[0m\u001b[0mnumpyArray\u001b[0m\u001b[1;33m[\u001b[0m\u001b[0mi\u001b[0m\u001b[1;33m+\u001b[0m\u001b[1;36m1\u001b[0m\u001b[1;33m]\u001b[0m\u001b[1;33m[\u001b[0m\u001b[1;36m3\u001b[0m\u001b[1;33m]\u001b[0m\u001b[1;33m]\u001b[0m \u001b[1;33m=\u001b[0m \u001b[0mcountryData\u001b[0m\u001b[1;33m[\u001b[0m\u001b[0mnumpyArray\u001b[0m\u001b[1;33m[\u001b[0m\u001b[0mi\u001b[0m\u001b[1;33m+\u001b[0m\u001b[1;36m1\u001b[0m\u001b[1;33m]\u001b[0m\u001b[1;33m[\u001b[0m\u001b[1;36m3\u001b[0m\u001b[1;33m]\u001b[0m\u001b[1;33m]\u001b[0m \u001b[1;33m+\u001b[0m \u001b[0mtempArray\u001b[0m\u001b[1;33m\u001b[0m\u001b[1;33m\u001b[0m\u001b[0m\n\u001b[0m\u001b[0;32m     11\u001b[0m \u001b[1;33m\u001b[0m\u001b[0m\n\u001b[0;32m     12\u001b[0m \u001b[1;33m\u001b[0m\u001b[0m\n",
      "\u001b[1;31mTypeError\u001b[0m: unsupported operand type(s) for +: 'float' and 'str'"
     ]
    }
   ],
   "source": [
    "countryData = {}\n",
    "print (len(numpyArray))\n",
    "\n",
    "for i in range(len(numpyArray)-1):\n",
    "    countryName = numpyArray[i+1][3]\n",
    "    countryData[countryName] = [0,0,0,0]\n",
    "\n",
    "for i in range(len(numpyArray)-1):\n",
    "    tempArray = np.array(numpyArray[i+1][7:11])\n",
    "    print(countryData[numpyArray[i+1][3]])\n",
    "    countryName = numpyArray[i+1][3]\n",
    "    countryData[countryName] = countryData[countryName] + tempArray\n",
    "    \n",
    "     \n",
    "\n",
    "print(countryData)"
   ]
  },
  {
   "cell_type": "code",
   "execution_count": null,
   "metadata": {},
   "outputs": [],
   "source": []
  }
 ]
}