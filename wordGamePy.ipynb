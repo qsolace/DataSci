{
 "metadata": {
  "language_info": {
   "codemirror_mode": {
    "name": "ipython",
    "version": 3
   },
   "file_extension": ".py",
   "mimetype": "text/x-python",
   "name": "python",
   "nbconvert_exporter": "python",
   "pygments_lexer": "ipython3",
   "version": "3.9.1-final"
  },
  "orig_nbformat": 2,
  "kernelspec": {
   "name": "python3",
   "display_name": "Python 3.9.1 64-bit",
   "metadata": {
    "interpreter": {
     "hash": "f90d893633778b4e5ca0ae3cb3b6a6b303ef2ef60ced37fab24a64ed228b94c8"
    }
   }
  }
 },
 "nbformat": 4,
 "nbformat_minor": 2,
 "cells": [
  {
   "cell_type": "code",
   "execution_count": 1,
   "metadata": {},
   "outputs": [
    {
     "output_type": "stream",
     "name": "stdout",
     "text": [
      "Welcome to the Xhorhouse, p\n"
     ]
    }
   ],
   "source": [
    "#create list of words, pick a random word and have the user guess\n",
    "#input, random, time (to delay)\n",
    "import json\n",
    "import random\n",
    "import time\n",
    "\n",
    "#ask user for name\n",
    "name = input(\"What is your name > \")\n",
    "print(\"Welcome to the Xhorhouse,\", name)"
   ]
  },
  {
   "cell_type": "code",
   "execution_count": 2,
   "metadata": {},
   "outputs": [],
   "source": [
    "game = input(\"You wanna play > \")\n",
    "\n",
    "filename = 'wordList.json'\n",
    "file = open(filename)\n",
    "data = json.load(file)"
   ]
  },
  {
   "cell_type": "code",
   "execution_count": 3,
   "metadata": {},
   "outputs": [
    {
     "output_type": "stream",
     "name": "stdout",
     "text": [
      "You did not select a diffuculty. You failed that simple task, so we're giving you the really easy one. It's **just** the letter a\n",
      "p You have 7 turns to guess the word\n",
      "_ \n",
      "_ \n",
      "a \n",
      "You guessed the word with 6 turns left!\n"
     ]
    }
   ],
   "source": [
    "while game == \"yes\" or game == \"y\":\n",
    "    difficulty = input (\"Do you want hard (h), medium (m), or easy (e) > \")\n",
    "    wordFile = \"\"\n",
    "    if (difficulty == 'h'):\n",
    "        wordFile = data[\"hard\"]\n",
    "    elif (difficulty == 'm'):\n",
    "        wordFile = data[\"medium\"]\n",
    "    elif (difficulty == 'e'):\n",
    "        wordFile = data[\"easy\"]\n",
    "    else:\n",
    "        print (\"You did not select a diffuculty. You failed that simple task, so we're giving you the really easy one. It's **just** the letter a\")\n",
    "        wordFile = data[\"dummy easy\"]\n",
    "    wordList = wordFile.split(\" \")\n",
    "\n",
    "    word = random.choice(wordList)\n",
    "    guess = []\n",
    "    turns = 7\n",
    "\n",
    "\n",
    "    print(name, \"You have\", turns, \"turns to guess the word\")\n",
    "    while turns > 0:\n",
    "        allRight = True\n",
    "        for char in word:\n",
    "            if char in guess:\n",
    "                print(char, end=\" \")\n",
    "            else:\n",
    "                allRight = False\n",
    "                print(\"_\", end=\" \")\n",
    "\n",
    "        print()\n",
    "        if allRight:\n",
    "            print(\"You guessed the word with\", turns, \"turns left!\")\n",
    "            break\n",
    "        userGuess = input(\"What is your guess > \")\n",
    "        if userGuess in word:\n",
    "            guess.append(userGuess)\n",
    "        else:\n",
    "            turns = turns - 1\n",
    "    if turns == 0:\n",
    "        print (\"You FAILED!!!!\")\n",
    "        print (\"=(\")\n",
    "        print (\"The word was:\", word)\n",
    "        print()\n",
    "    game = input(\"Do you want to play again > \")"
   ]
  },
  {
   "cell_type": "code",
   "execution_count": null,
   "metadata": {},
   "outputs": [],
   "source": []
  }
 ]
}